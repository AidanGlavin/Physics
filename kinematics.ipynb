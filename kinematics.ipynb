{
 "cells": [
  {
   "cell_type": "markdown",
   "metadata": {},
   "source": [
    "# kinematics\n"
   ]
  },
  {
   "cell_type": "markdown",
   "metadata": {},
   "source": [
    "## Horizontal motion"
   ]
  },
  {
   "cell_type": "markdown",
   "metadata": {},
   "source": [
    "d=displacement\n",
    "v=velocity\n",
    "a=acceleration\n",
    "t=time\n",
    "acceleration will always be constant\n",
    "\n",
    "d=Vi*t+(1/2)at^2\n",
    "Vf^2=Vi^2+2ad\n",
    "Vf=Vi+at\n",
    "d=(Vi+Vf/2)t"
   ]
  },
  {
   "cell_type": "markdown",
   "metadata": {},
   "source": [
    "Problem 1\n",
    "car accelerates at constant speed of 2.5m/s^2\n",
    "how fast wil the car be going in 10 seconds\n",
    "a=2.5ms/^2\n",
    "Problem 2\n",
    "car traveling at 27m/s\n",
    "how far will you travel if you brake at -8.4m/s^2\n",
    "a=-8.4m/s^2\n"
   ]
  },
  {
   "cell_type": "markdown",
   "metadata": {},
   "source": [
    "## Vertical motion"
   ]
  },
  {
   "cell_type": "markdown",
   "metadata": {},
   "source": [
    "Same as horizontal motion except acceleration is constant at -9.8m/s^2"
   ]
  },
  {
   "cell_type": "code",
   "execution_count": 15,
   "metadata": {},
   "outputs": [],
   "source": [
    "import math\n",
    "\n",
    "def DropEQ(height):\n",
    "    p=(2*-height)/-9.8\n",
    "    return math.sqrt(int(p))"
   ]
  },
  {
   "cell_type": "markdown",
   "metadata": {},
   "source": [
    "d=1*t+0.5*at^2\n",
    "#d=0.5at^2\n",
    " #2d=at^2\n",
    " #2d/a=t^2\n",
    " #t=sqrt(2d/a)"
   ]
  },
  {
   "cell_type": "code",
   "execution_count": 38,
   "metadata": {},
   "outputs": [],
   "source": [
    "def DropEQVel(height,time):\n",
    "    Vel= time*-9.8\n",
    "    return Vel, \"m/s\""
   ]
  },
  {
   "cell_type": "code",
   "execution_count": 41,
   "metadata": {},
   "outputs": [
    {
     "name": "stdout",
     "output_type": "stream",
     "text": [
      "-44.1m/s\n"
     ]
    }
   ],
   "source": [
    "v,u=DropEQVel(100,4.5)\n",
    "print(str(v)+u)"
   ]
  },
  {
   "cell_type": "code",
   "execution_count": 75,
   "metadata": {},
   "outputs": [],
   "source": [
    "def DropEQVelI(height,Vel):\n",
    "    a=-4.9\n",
    "    b=Vel\n",
    "    c=height\n",
    "    Delta=(b**2)-(4*a*c)\n",
    "    x1=(-b+math.sqrt(Delta))/(2*a)\n",
    "    x2=(-b-math.sqrt(Delta))/(2*a)\n",
    "    if x1<0:\n",
    "        return x2 \n",
    "    else:\n",
    "        return x1"
   ]
  },
  {
   "cell_type": "code",
   "execution_count": 76,
   "metadata": {},
   "outputs": [
    {
     "name": "stdout",
     "output_type": "stream",
     "text": [
      "5.651757435881721Sec\n"
     ]
    }
   ],
   "source": [
    "print(str(DropEQVelI(100,10))+\"Sec\")"
   ]
  },
  {
   "cell_type": "code",
   "execution_count": 86,
   "metadata": {},
   "outputs": [],
   "source": [
    "def VelEQf(time,VelI):\n",
    "    \n",
    "    VelF= VelI+(-9.8*time)\n",
    "    return VelF\n"
   ]
  },
  {
   "cell_type": "code",
   "execution_count": 96,
   "metadata": {},
   "outputs": [
    {
     "name": "stdout",
     "output_type": "stream",
     "text": [
      "-45.370000000000005m/s\n"
     ]
    }
   ],
   "source": [
    "print(str(VelEQf(5.65,10))+\"m/s\")"
   ]
  },
  {
   "cell_type": "code",
   "execution_count": null,
   "metadata": {},
   "outputs": [],
   "source": []
  }
 ],
 "metadata": {
  "kernelspec": {
   "display_name": "Python 3",
   "language": "python",
   "name": "python3"
  },
  "language_info": {
   "codemirror_mode": {
    "name": "ipython",
    "version": 3
   },
   "file_extension": ".py",
   "mimetype": "text/x-python",
   "name": "python",
   "nbconvert_exporter": "python",
   "pygments_lexer": "ipython3",
   "version": "3.6.5"
  }
 },
 "nbformat": 4,
 "nbformat_minor": 2
}
